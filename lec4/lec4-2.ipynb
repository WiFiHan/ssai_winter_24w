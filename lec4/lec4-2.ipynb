{
 "cells": [
  {
   "cell_type": "code",
   "execution_count": null,
   "metadata": {},
   "outputs": [],
   "source": [
    "! pip install transformers datasets sentencepiece accelerate"
   ]
  },
  {
   "cell_type": "code",
   "execution_count": null,
   "metadata": {},
   "outputs": [],
   "source": [
    "import os\n",
    "import torch\n",
    "from transformers import AutoTokenizer, AutoModelForSequenceClassification, Trainer, TrainingArguments\n",
    "from datasets import load_dataset\n",
    "\n",
    "os.environ[\"WANDB_DISABLED\"] = \"true\"  # wandb 사용하지 않음\n",
    "\n",
    "# 1. load pretrained tokenizer and model\n",
    "model_name = \"bert-base-uncased\"\n",
    "tokenizer = AutoTokenizer.from_pretrained(model_name)\n",
    "model = AutoModelForSequenceClassification.from_pretrained(model_name, num_labels=2)\n"
   ]
  },
  {
   "cell_type": "code",
   "execution_count": null,
   "metadata": {},
   "outputs": [],
   "source": [
    "# example input\n",
    "inputs = tokenizer(\"I want to submit paper...\", return_tensors=\"pt\")\n",
    "\n",
    "# initial inference for example input: might be random\n",
    "outputs = model(**inputs.to(model.device))\n",
    "predictions = torch.nn.functional.softmax(outputs.logits, dim=-1)\n",
    "labels = [\"NEGATIVE\", \"POSITIVE\"]\n",
    "result = labels[torch.argmax(predictions)]\n",
    "print(result)"
   ]
  },
  {
   "cell_type": "code",
   "execution_count": null,
   "metadata": {},
   "outputs": [],
   "source": [
    "# 2. 데이터셋 불러오기\n",
    "dataset = load_dataset(\"imdb\")  # IMDb 영화 리뷰 데이터셋\n",
    "train_dataset = dataset[\"train\"].shuffle(seed=42).select(range(1000))  # 일부 데이터로 실습\n",
    "test_dataset = dataset[\"test\"].shuffle(seed=42).select(range(200))\n",
    "\n",
    "# 3. 데이터 전처리\n",
    "def preprocess_data(examples):\n",
    "    return tokenizer(examples[\"text\"], padding=\"max_length\", truncation=True, max_length=512)\n",
    "\n",
    "train_dataset = train_dataset.map(preprocess_data, batched=True)\n",
    "test_dataset = test_dataset.map(preprocess_data, batched=True)\n",
    "\n",
    "# 4. Trainer 설정\n",
    "training_args = TrainingArguments(\n",
    "    output_dir=\"./results\",\n",
    "    evaluation_strategy=\"epoch\",\n",
    "    learning_rate=2e-5,\n",
    "    per_device_train_batch_size=16,\n",
    "    per_device_eval_batch_size=16,\n",
    "    num_train_epochs=3,\n",
    "    weight_decay=0.01,\n",
    "    logging_dir=\"./logs\",\n",
    "    logging_steps=10,\n",
    "    save_strategy=\"epoch\",\n",
    "    report_to=\"none\",\n",
    ")\n",
    "\n",
    "trainer = Trainer(\n",
    "    model=model,\n",
    "    args=training_args,\n",
    "    train_dataset=train_dataset,\n",
    "    eval_dataset=test_dataset,\n",
    "    tokenizer=tokenizer\n",
    ")"
   ]
  },
  {
   "cell_type": "code",
   "execution_count": null,
   "metadata": {},
   "outputs": [],
   "source": [
    "# 5. 훈련 실행\n",
    "trainer.train()\n",
    "\n",
    "# 6. 평가\n",
    "results = trainer.evaluate()\n",
    "print(results)\n"
   ]
  },
  {
   "cell_type": "code",
   "execution_count": null,
   "metadata": {},
   "outputs": [],
   "source": [
    "# 모델 추론\n",
    "inputs = tokenizer(\"I want to submit paper...\", return_tensors=\"pt\")\n",
    "outputs = model(**inputs.to(model.device))\n",
    "predictions = torch.nn.functional.softmax(outputs.logits, dim=-1)\n",
    "labels = [\"NEGATIVE\", \"POSITIVE\"]\n",
    "result = labels[torch.argmax(predictions)]\n",
    "print(result)"
   ]
  },
  {
   "cell_type": "code",
   "execution_count": null,
   "metadata": {},
   "outputs": [],
   "source": []
  }
 ],
 "metadata": {
  "kernelspec": {
   "display_name": "jmhan",
   "language": "python",
   "name": "python3"
  },
  "language_info": {
   "codemirror_mode": {
    "name": "ipython",
    "version": 3
   },
   "file_extension": ".py",
   "mimetype": "text/x-python",
   "name": "python",
   "nbconvert_exporter": "python",
   "pygments_lexer": "ipython3",
   "version": "3.10.15"
  }
 },
 "nbformat": 4,
 "nbformat_minor": 2
}
