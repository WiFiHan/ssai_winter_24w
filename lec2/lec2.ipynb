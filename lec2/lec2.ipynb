{
  "cells": [
    {
      "cell_type": "code",
      "execution_count": null,
      "id": "546fe7db-f3ab-4f7b-a076-378a382b3cd7",
      "metadata": {
        "editable": true,
        "tags": [],
        "id": "546fe7db-f3ab-4f7b-a076-378a382b3cd7"
      },
      "outputs": [],
      "source": [
        "%matplotlib inline\n",
        "import matplotlib.pyplot as plt\n",
        "import torch\n",
        "from torch import nn\n",
        "from torch.nn import functional as F"
      ]
    },
    {
      "cell_type": "markdown",
      "id": "6adb6937-fdbb-46bf-b883-3f203c0ba73b",
      "metadata": {
        "id": "6adb6937-fdbb-46bf-b883-3f203c0ba73b"
      },
      "source": [
        "# Lab2-1. PyTorch Tensor"
      ]
    },
    {
      "cell_type": "markdown",
      "source": [
        "### Tensor: 다차원 배열"
      ],
      "metadata": {
        "id": "kiU92hmv2BhI"
      },
      "id": "kiU92hmv2BhI"
    },
    {
      "cell_type": "code",
      "source": [
        "x = torch.randn(2)        # 1차원 벡터\n",
        "y = torch.randn(3, 4)     # 2차원 행렬\n",
        "z = torch.randn(4, 5, 6)  # 3차원 텐서\n",
        "print(x.shape)\n",
        "print(y.shape)\n",
        "print(z.shape)"
      ],
      "metadata": {
        "id": "KMEDiEjo1mQ0"
      },
      "id": "KMEDiEjo1mQ0",
      "execution_count": null,
      "outputs": []
    },
    {
      "cell_type": "markdown",
      "id": "f9785ecf-d4c8-4f43-8eb4-26cfeb35ab0b",
      "metadata": {
        "id": "f9785ecf-d4c8-4f43-8eb4-26cfeb35ab0b"
      },
      "source": [
        "### tensor indexing (index가 0부터 시작한다는 점에 유의할 것)"
      ]
    },
    {
      "cell_type": "code",
      "execution_count": null,
      "id": "22904285-7051-470e-9725-e313dfc405de",
      "metadata": {
        "id": "22904285-7051-470e-9725-e313dfc405de"
      },
      "outputs": [],
      "source": [
        "x = torch.tensor(\n",
        "    [[0.0, 1.0, 2.0, 3.0],\n",
        "     [4.0, 5.0, 6.0, 7.0],\n",
        "     [8.0, 9.0, 10.0, 11.0]]\n",
        ")  # x.shape: [3, 4]\n",
        "print(f\"x: {x}\")\n",
        "print(f\"x[1, 3]: {x[1, 3]}\")\n",
        "print(f\"x[1]: {x[1]}\")\n",
        "print(f\"x[1, :]: {x[1, :]}\")\n",
        "print(f\"x[:, 3]: {x[:, 3]}\")"
      ]
    },
    {
      "cell_type": "markdown",
      "id": "cadafc89-7332-4102-8d00-f26dcc589133",
      "metadata": {
        "id": "cadafc89-7332-4102-8d00-f26dcc589133"
      },
      "source": [
        "### unsqueeze"
      ]
    },
    {
      "cell_type": "code",
      "execution_count": null,
      "id": "86ff6a88-0e94-46d0-9faa-01c5969546d5",
      "metadata": {
        "id": "86ff6a88-0e94-46d0-9faa-01c5969546d5"
      },
      "outputs": [],
      "source": [
        "x = torch.tensor([1.0, 2.0, 3.0])\n",
        "print(x.shape)\n",
        "\n",
        "x = x.unsqueeze(1)\n",
        "print(x.shape)\n",
        "\n",
        "x = x.unsqueeze(0)\n",
        "print(x.shape)"
      ]
    },
    {
      "cell_type": "markdown",
      "id": "e5961c45-a1a6-466e-a287-e2080bc7ecde",
      "metadata": {
        "id": "e5961c45-a1a6-466e-a287-e2080bc7ecde"
      },
      "source": [
        "### sampling from a normal distribution"
      ]
    },
    {
      "cell_type": "code",
      "execution_count": null,
      "id": "ad86b7eb-dbc9-44f9-b26c-9afbad9de0cc",
      "metadata": {
        "id": "ad86b7eb-dbc9-44f9-b26c-9afbad9de0cc"
      },
      "outputs": [],
      "source": [
        "x = torch.randn(3)\n",
        "print(x)"
      ]
    },
    {
      "cell_type": "code",
      "execution_count": null,
      "id": "53b7de98-0bbe-48da-9f4a-fd38962c4cdf",
      "metadata": {
        "id": "53b7de98-0bbe-48da-9f4a-fd38962c4cdf"
      },
      "outputs": [],
      "source": [
        "x = torch.randn(10000)\n",
        "plt.hist(x, bins=25)  # x를 histogram 그기기 (막대바 개수 = 25)\n",
        "plt.show()"
      ]
    },
    {
      "cell_type": "markdown",
      "id": "83e95a83-c98e-4a18-9724-e7d0bf5175cf",
      "metadata": {
        "id": "83e95a83-c98e-4a18-9724-e7d0bf5175cf"
      },
      "source": [
        "### Element-wise addition, multiplication"
      ]
    },
    {
      "cell_type": "code",
      "execution_count": null,
      "id": "38617596-31e4-4496-b717-1bb2a34c82d7",
      "metadata": {
        "id": "38617596-31e4-4496-b717-1bb2a34c82d7"
      },
      "outputs": [],
      "source": [
        "x = torch.tensor([1.0, 2.0, 3.0])\n",
        "y = torch.tensor([2.0, 3.0, 4.0])\n",
        "print(\"add:\", x + y)\n",
        "print(\"mul:\", x * y)"
      ]
    },
    {
      "cell_type": "markdown",
      "id": "fa588bd8-dfc7-4734-bb87-3031b27ec42c",
      "metadata": {
        "id": "fa588bd8-dfc7-4734-bb87-3031b27ec42c"
      },
      "source": [
        "### vector dot-product (https://pytorch.org/docs/main/generated/torch.matmul.html)"
      ]
    },
    {
      "cell_type": "code",
      "execution_count": null,
      "id": "66c88630-31a2-4cad-abe8-9a64a7836b25",
      "metadata": {
        "id": "66c88630-31a2-4cad-abe8-9a64a7836b25"
      },
      "outputs": [],
      "source": [
        "x = torch.tensor([1.0, 2.0, 3.0])\n",
        "y = torch.tensor([2.0, 3.0, 4.0])\n",
        "print(x @ y)\n",
        "print((x * y).sum())"
      ]
    },
    {
      "cell_type": "markdown",
      "id": "ccff84e4-b873-4436-b040-990bf43447a2",
      "metadata": {
        "id": "ccff84e4-b873-4436-b040-990bf43447a2"
      },
      "source": [
        "### matrix multiplication"
      ]
    },
    {
      "cell_type": "code",
      "execution_count": null,
      "id": "7e16ed1f-e011-453b-ae14-5f073a0eb75f",
      "metadata": {
        "id": "7e16ed1f-e011-453b-ae14-5f073a0eb75f"
      },
      "outputs": [],
      "source": [
        "x = torch.tensor(\n",
        "    [[1.0, 1.0, 1.0, 1.0],\n",
        "     [2.0, 2.0, 2.0, 2.0],\n",
        "     [3.0, 3.0, 3.0, 3.0]]\n",
        ")            # x.shape: [3, 4]\n",
        "y = torch.tensor(\n",
        "    [[1.0, 2.0],\n",
        "     [1.0, 2.0],\n",
        "     [1.0, 2.0],\n",
        "     [1.0, 2.0]]\n",
        ")           # y.shape: [4, 2]\n",
        "z = x @ y   # z.shape: [3, 2]\n",
        "print(\"x.shape:\", x.shape)\n",
        "print(\"y.shape:\", y.shape)\n",
        "print(\"z.shape:\", z.shape)\n",
        "print(z)"
      ]
    },
    {
      "cell_type": "markdown",
      "id": "e36a366d-e3fc-4410-9dc8-70b617a41b08",
      "metadata": {
        "id": "e36a366d-e3fc-4410-9dc8-70b617a41b08"
      },
      "source": [
        "# Lab2-2. Perceptron (AND Gate)"
      ]
    },
    {
      "cell_type": "code",
      "execution_count": null,
      "id": "ade28456-923d-4e1e-84b7-6f03a7877d13",
      "metadata": {
        "id": "ade28456-923d-4e1e-84b7-6f03a7877d13"
      },
      "outputs": [],
      "source": [
        "dataset = [\n",
        "    {'x': torch.tensor([0.0, 0.0]), 'y': torch.tensor([0.0])},\n",
        "    {'x': torch.tensor([0.0, 1.0]), 'y': torch.tensor([0.0])},\n",
        "    {'x': torch.tensor([1.0, 0.0]), 'y': torch.tensor([0.0])},\n",
        "    {'x': torch.tensor([1.0, 1.0]), 'y': torch.tensor([1.0])},\n",
        "]\n",
        "\n",
        "weight = torch.tensor([5.0, 5.0])  # weight.shape = [2]\n",
        "bias = torch.tensor([-7.5])        # bias.shape = [1]\n",
        "\n",
        "print(f\"weight: {weight.tolist()}, bias: {bias.tolist()}\")\n",
        "for data in dataset:\n",
        "    x = data['x']    # x.shape = [2]\n",
        "    y = data['y']    # y.shape = [1]\n",
        "    y_hat = torch.sigmoid(weight @ x + bias)    # @: dot product\n",
        "    print(f\"입력: {x.tolist()}, 출력: {y_hat.item():.4f}, 정답: {y.item()}\")"
      ]
    },
    {
      "cell_type": "markdown",
      "id": "f0a4d3bd-cfb8-42a7-afa9-f18df0cb76df",
      "metadata": {
        "id": "f0a4d3bd-cfb8-42a7-afa9-f18df0cb76df"
      },
      "source": [
        "# Lab2-3. Training a Perceptron (AND Gate)"
      ]
    },
    {
      "cell_type": "code",
      "execution_count": null,
      "id": "69d4ac8e-3fcd-4562-aaca-1e9b229b89d6",
      "metadata": {
        "id": "69d4ac8e-3fcd-4562-aaca-1e9b229b89d6"
      },
      "outputs": [],
      "source": [
        "# Prepare training data\n",
        "x = torch.tensor([\n",
        "    [0.0, 0.0],\n",
        "    [0.0, 1.0],\n",
        "    [1.0, 0.0],\n",
        "    [1.0, 1.0]\n",
        "]).cuda()    # x.shape: [4, 2]\n",
        "y = torch.tensor([0.0, 0.0, 0.0, 1.0]).cuda() # y.shape: [4]\n",
        "\n",
        "# Initialize parameters\n",
        "weight = torch.randn(2).cuda()  # weight.shape = [2]\n",
        "bias = torch.randn(1).cuda()    # bias.shape = [1]\n",
        "\n",
        "print(\"===== Right after initialization =====\")\n",
        "print(f\"weight: {weight.tolist()}, bias: {bias.tolist()}\")\n",
        "for i in range(4):\n",
        "    x_i = x[i]    # x_i.shape = [2]\n",
        "    y_i = y[i]    # y_i.shape = [1]\n",
        "    y_hat = torch.sigmoid(weight @ x_i + bias)    # @: dot product\n",
        "    print(f\"입력: {x_i.tolist()}, 출력: {y_hat.item():.4f}, 정답: {y_i.item()}\")"
      ]
    },
    {
      "cell_type": "code",
      "execution_count": null,
      "id": "4cc87628-1b72-4eb6-ba85-ba92431dd413",
      "metadata": {
        "id": "4cc87628-1b72-4eb6-ba85-ba92431dd413"
      },
      "outputs": [],
      "source": [
        "# Train\n",
        "TOTAL_EPOCH = 1000\n",
        "LR = 0.3\n",
        "\n",
        "losses = []\n",
        "for epoch in range(TOTAL_EPOCH):\n",
        "    # forward propagation\n",
        "    h = (x * weight).sum(dim=1) + bias  # h.shape: [4]\n",
        "    y_hat = torch.sigmoid(h)            # y_hat.shape: [4]\n",
        "    loss = (y_hat - y).square().mean()  # loss.shape: [1]\n",
        "    losses.append(loss.item())\n",
        "\n",
        "    # backpropagation (using chain rule)\n",
        "    dL_dyhat = 2 * (y_hat - y) / 4      # shape: [4]\n",
        "    dyhat_dh = y_hat * (1 - y_hat)      # shape: [4]\n",
        "    dL_dh = dL_dyhat * dyhat_dh         # shape: [4]\n",
        "    dL_dbias = dL_dh.sum()              # shape: [1]\n",
        "    dL_dweight = (dL_dh.unsqueeze(1) * x).sum(dim=0)  # shape: [2]\n",
        "\n",
        "    # gradient descent\n",
        "    weight = weight - LR * dL_dweight\n",
        "    bias = bias - LR * dL_dbias\n",
        "plt.plot(losses)\n",
        "plt.xlabel(\"Epoch\")\n",
        "plt.ylabel(\"Loss\")\n",
        "plt.show()\n",
        "\n",
        "# Validate\n",
        "print(\"===== After training =====\")\n",
        "print(f\"weight: {weight.tolist()}, bias: {bias.tolist()}\")\n",
        "for i in range(4):\n",
        "    x_i = x[i]    # x_i.shape = [2]\n",
        "    y_i = y[i]    # y_i.shape = [1]\n",
        "    y_hat = torch.sigmoid(weight @ x_i + bias)    # @: dot product\n",
        "    print(f\"입력: {x_i.tolist()}, 출력: {y_hat.item():.4f}, 정답: {y_i.item()}\")"
      ]
    },
    {
      "cell_type": "markdown",
      "id": "e20c6a55-d519-42cd-b490-d54fa3f48778",
      "metadata": {
        "id": "e20c6a55-d519-42cd-b490-d54fa3f48778"
      },
      "source": [
        "# Lab2-4. Training a Perceptron (AND Gate) (Without manual backpropagation)"
      ]
    },
    {
      "cell_type": "code",
      "execution_count": null,
      "id": "ab15dba2-210c-4e3b-99d8-d893f08a642e",
      "metadata": {
        "id": "ab15dba2-210c-4e3b-99d8-d893f08a642e"
      },
      "outputs": [],
      "source": [
        "# Prepare training data\n",
        "x = torch.tensor([\n",
        "    [0.0, 0.0],\n",
        "    [0.0, 1.0],\n",
        "    [1.0, 0.0],\n",
        "    [1.0, 1.0]\n",
        "]).cuda()\n",
        "y = torch.tensor([0.0, 0.0, 0.0, 1.0]).cuda()\n",
        "\n",
        "# Initialize parameters\n",
        "weight = nn.Parameter(torch.randn(2).cuda())\n",
        "bias = nn.Parameter(torch.randn(1).cuda())\n",
        "\n",
        "# Train\n",
        "TOTAL_EPOCH = 1000\n",
        "LR = 0.3\n",
        "losses = []\n",
        "for _ in range(TOTAL_EPOCH):\n",
        "    weight.grad = None\n",
        "    bias.grad = None\n",
        "\n",
        "    # forward propagation\n",
        "    y_hat = torch.sigmoid((x * weight).sum(dim=1) + bias)\n",
        "    loss = F.mse_loss(y_hat, y)\n",
        "    losses.append(loss.item())\n",
        "\n",
        "    # PyTorch's automatic backpropagation\n",
        "    loss.backward()\n",
        "\n",
        "    # gradient descent\n",
        "    weight.data = weight.data - LR * weight.grad\n",
        "    bias.data = bias.data - LR * bias.grad\n",
        "plt.plot(losses)\n",
        "plt.xlabel(\"Epoch\")\n",
        "plt.ylabel(\"Loss\")\n",
        "plt.show()\n",
        "\n",
        "# Validate\n",
        "print(\"===== After training =====\")\n",
        "print(f\"weight: {weight.tolist()}, bias: {bias.tolist()}\")\n",
        "for i in range(4):\n",
        "    x_i = x[i]    # x_i.shape = [2]\n",
        "    y_i = y[i]    # y_i.shape = [1]\n",
        "    y_hat = torch.sigmoid(weight @ x_i + bias)    # @: dot product\n",
        "    print(f\"입력: {x_i.tolist()}, 출력: {y_hat.item():.4f}, 정답: {y_i.item()}\")"
      ]
    },
    {
      "cell_type": "markdown",
      "id": "ef9f8298-acf5-4313-acbe-32892b03809e",
      "metadata": {
        "id": "ef9f8298-acf5-4313-acbe-32892b03809e"
      },
      "source": [
        "# Lab2-5. Training a Perceptron (AND Gate) (Without manual gradient descent)"
      ]
    },
    {
      "cell_type": "code",
      "execution_count": null,
      "id": "506e87f3-c6d6-4d3a-bcb5-3220b83fb11f",
      "metadata": {
        "id": "506e87f3-c6d6-4d3a-bcb5-3220b83fb11f"
      },
      "outputs": [],
      "source": [
        "# Prepare training data\n",
        "x = torch.tensor([\n",
        "    [0.0, 0.0],\n",
        "    [0.0, 1.0],\n",
        "    [1.0, 0.0],\n",
        "    [1.0, 1.0]\n",
        "]).cuda()\n",
        "y = torch.tensor([0.0, 0.0, 0.0, 1.0]).cuda()\n",
        "\n",
        "# Initialize parameters\n",
        "weight = nn.Parameter(torch.randn(2).cuda())\n",
        "bias = nn.Parameter(torch.randn(1).cuda())\n",
        "\n",
        "# Initialize an optimizer (we use a stochastic gradient descent optimizer)\n",
        "parameters = [weight, bias]\n",
        "optimizer = torch.optim.SGD(parameters, lr=LR)\n",
        "\n",
        "# Train\n",
        "TOTAL_EPOCH = 1000\n",
        "LR = 0.3\n",
        "losses = []\n",
        "for _ in range(TOTAL_EPOCH):\n",
        "    optimizer.zero_grad()\n",
        "\n",
        "    # forward propagation\n",
        "    y_hat = torch.sigmoid((x * weight).sum(dim=1) + bias)\n",
        "    loss = F.mse_loss(y_hat, y)\n",
        "    losses.append(loss.item())\n",
        "\n",
        "    # PyTorch's automatic backpropagation\n",
        "    loss.backward()\n",
        "\n",
        "    # gradient descent\n",
        "    optimizer.step()\n",
        "plt.plot(losses)\n",
        "plt.xlabel(\"Epoch\")\n",
        "plt.ylabel(\"Loss\")\n",
        "plt.show()\n",
        "\n",
        "# Validate\n",
        "print(\"===== After training =====\")\n",
        "print(f\"weight: {weight.tolist()}, bias: {bias.tolist()}\")\n",
        "for i in range(4):\n",
        "    x_i = x[i]    # x_i.shape = [2]\n",
        "    y_i = y[i]    # y_i.shape = [1]\n",
        "    y_hat = torch.sigmoid(weight @ x_i + bias)    # @: dot product\n",
        "    print(f\"입력: {x_i.tolist()}, 출력: {y_hat.item():.4f}, 정답: {y_i.item()}\")"
      ]
    },
    {
      "cell_type": "markdown",
      "id": "b223f457-6361-43c5-b5ac-c82cb2c668fa",
      "metadata": {
        "id": "b223f457-6361-43c5-b5ac-c82cb2c668fa"
      },
      "source": [
        "# Lab2.6 Deep Neural Network (Regression)"
      ]
    },
    {
      "cell_type": "code",
      "execution_count": null,
      "id": "5db36b69-27b1-4ffb-b563-bb86b8ce8553",
      "metadata": {
        "collapsed": true,
        "id": "5db36b69-27b1-4ffb-b563-bb86b8ce8553"
      },
      "outputs": [],
      "source": [
        "from IPython.display import clear_output\n",
        "\n",
        "# Prepare data\n",
        "x = torch.unsqueeze(torch.linspace(-1, 1, 100), dim=1).cuda()  # x data (tensor), shape=(100, 1)\n",
        "y = x.pow(2) + 0.2*torch.rand(x.size()).cuda()                 # noisy y data (tensor), shape=(100, 1)\n",
        "\n",
        "# Define a network class\n",
        "class DNN(torch.nn.Module):\n",
        "    def __init__(self, n_feature, n_hidden, n_output):\n",
        "        super().__init__()\n",
        "        self.hidden = torch.nn.Linear(n_feature, n_hidden)   # hidden layer\n",
        "        self.predict = torch.nn.Linear(n_hidden, n_output)   # output layer\n",
        "\n",
        "    def forward(self, x):\n",
        "        x = F.relu(self.hidden(x))      # activation function for hidden layer\n",
        "        x = self.predict(x)             # linear output\n",
        "        return x\n",
        "\n",
        "# Create a network\n",
        "net = DNN(n_feature=1, n_hidden=10, n_output=1)\n",
        "net.cuda()\n",
        "\n",
        "# Define an optimizer\n",
        "optimizer = torch.optim.SGD(net.parameters(), lr=0.2)\n",
        "loss_func = torch.nn.MSELoss()  # this is for regression mean squared loss\n",
        "\n",
        "for epoch in range(1, 201):\n",
        "    optimizer.zero_grad()\n",
        "    prediction = net(x)    # forward propagation\n",
        "    loss = (prediction - y).square().mean() # mean squared error loss\n",
        "    loss.backward()         # backpropagation\n",
        "    optimizer.step()        # apply gradients\n",
        "\n",
        "    if epoch % 5 == 0:\n",
        "        # plot and show learning process\n",
        "        clear_output(wait=True)\n",
        "        plt.cla()\n",
        "        plt.title(f\"Epoch {epoch}\")\n",
        "        plt.scatter(x.cpu().numpy(), y.cpu().numpy())\n",
        "        plt.plot(x.cpu().numpy(), prediction.data.cpu().numpy(), 'r-', lw=5)\n",
        "        plt.text(0.5, 0, f'Loss={loss.item():.4f}', fontdict={'size': 20, 'color':  'red'})\n",
        "        plt.xlabel(\"x\")\n",
        "        plt.ylabel(\"y\")\n",
        "        plt.show()"
      ]
    },
    {
      "cell_type": "code",
      "execution_count": null,
      "id": "4f5075dc-00b6-44af-ab0d-f52d5981108c",
      "metadata": {
        "id": "4f5075dc-00b6-44af-ab0d-f52d5981108c"
      },
      "outputs": [],
      "source": []
    }
  ],
  "metadata": {
    "kernelspec": {
      "display_name": "Python 3",
      "name": "python3"
    },
    "language_info": {
      "codemirror_mode": {
        "name": "ipython",
        "version": 3
      },
      "file_extension": ".py",
      "mimetype": "text/x-python",
      "name": "python",
      "nbconvert_exporter": "python",
      "pygments_lexer": "ipython3",
      "version": "3.12.8"
    },
    "colab": {
      "provenance": [],
      "gpuType": "T4"
    },
    "accelerator": "GPU"
  },
  "nbformat": 4,
  "nbformat_minor": 5
}